{
 "cells": [
  {
   "cell_type": "markdown",
   "metadata": {},
   "source": [
    "# Ejercicios de Python\n",
    "Inteligencia Artificial - Facundo A. Lucianna - CEIA - FIUBA\n",
    "\n",
    "A continuación veamos ejercicios de Python que deben resolver.\n",
    "\n",
    "**Ejercicio 1**: Imprima el texto `”Hola, estoy aprendiendo Python”`. Agregue un comentario de una sola línea antes de la impresión de texto que explique qué hace la función `print()`."
   ]
  },
  {
   "cell_type": "code",
   "execution_count": 3,
   "metadata": {},
   "outputs": [
    {
     "name": "stdout",
     "output_type": "stream",
     "text": [
      "Hola, estoy aprendiendo Python\n"
     ]
    }
   ],
   "source": [
    "# La función print() imprime en la consola el string pasado por parámetro\n",
    "print(\"Hola, estoy aprendiendo Python\")"
   ]
  },
  {
   "cell_type": "markdown",
   "metadata": {},
   "source": [
    "**Ejercicio 2**: Imprima el siguiente texto respetando el formato (use triple \"\"\"):\n",
    "\n",
    "```\n",
    "Sobre el puente de Avignon\n",
    "      Todos bailan, todos bailan\n",
    "Sobre el puente de Avignon\n",
    "      Todos bailan y yo también\n",
    "```"
   ]
  },
  {
   "cell_type": "code",
   "execution_count": 4,
   "metadata": {},
   "outputs": [
    {
     "name": "stdout",
     "output_type": "stream",
     "text": [
      "\n",
      "Sobre el puente de Avignon\n",
      "    Todos bailan, todos bailan\n",
      "Sobre el puente Avignon\n",
      "    Todos bailan y yo también\n",
      "\n"
     ]
    }
   ],
   "source": [
    "avignon_song = \"\"\"\n",
    "Sobre el puente de Avignon\n",
    "    Todos bailan, todos bailan\n",
    "Sobre el puente Avignon\n",
    "    Todos bailan y yo también\n",
    "\"\"\"\n",
    "\n",
    "print(avignon_song)"
   ]
  },
  {
   "cell_type": "markdown",
   "metadata": {},
   "source": [
    "**Ejercicio 3**: Crea las siguiente variables:\n",
    "\n",
    "```\n",
    "var1 = 1\n",
    "var2 = 3.14\n",
    "var3 = −8\n",
    "var4 = \"CEIoT\"\n",
    "```\n",
    "\n",
    "1. Realice las siguientes operaciones e imprímalas. Comente en la notebook qué operaciones se hace en cada caso:\n",
    "    1. `var1 + var2`\n",
    "    2. `var1 − var2`\n",
    "    3. `var3 / 3`\n",
    "    4. `var3 // 3`\n",
    "    5. `var3 % 3`\n",
    "    6. `var2 ** 2`\n",
    "    7. `var3 ∗ var2`\n",
    "    8. `var4 + var4`\n",
    "    9. `var4 * ((-1) * var3)`\n",
    "    10. `var4 / var2`\n",
    "2. ¿Todas las operaciones aquí listadas pueden realizar? Si la respuesta es no, cual no se puede realizar? ¿Qué error da Python? ¿Qué significa ese error?"
   ]
  },
  {
   "cell_type": "code",
   "execution_count": 15,
   "metadata": {},
   "outputs": [
    {
     "name": "stdout",
     "output_type": "stream",
     "text": [
      "Suma de variables: 4.140000000000001\n",
      "Resta de variables: -2.14\n",
      "División: -2.6666666666666665\n",
      "División entera con aproximación: -3\n",
      "Módulo entre dos números: 1\n",
      "Función exponencial: 9.8596\n",
      "Multiplicación: -25.12\n",
      "Concatenación de variables: CEIoTCEIoT\n",
      "Mucha concatenación: CEIoTCEIoTCEIoTCEIoTCEIoTCEIoTCEIoTCEIoT\n"
     ]
    },
    {
     "ename": "TypeError",
     "evalue": "unsupported operand type(s) for /: 'str' and 'float'",
     "output_type": "error",
     "traceback": [
      "\u001b[0;31m---------------------------------------------------------------------------\u001b[0m",
      "\u001b[0;31mTypeError\u001b[0m                                 Traceback (most recent call last)",
      "Cell \u001b[0;32mIn[15], line 15\u001b[0m\n\u001b[1;32m     13\u001b[0m \u001b[38;5;28mprint\u001b[39m(\u001b[38;5;124mf\u001b[39m\u001b[38;5;124m\"\u001b[39m\u001b[38;5;124mConcatenación de variables: \u001b[39m\u001b[38;5;132;01m{\u001b[39;00mvar4\u001b[38;5;250m \u001b[39m\u001b[38;5;241m+\u001b[39m\u001b[38;5;250m \u001b[39mvar4\u001b[38;5;132;01m}\u001b[39;00m\u001b[38;5;124m\"\u001b[39m)\n\u001b[1;32m     14\u001b[0m \u001b[38;5;28mprint\u001b[39m(\u001b[38;5;124mf\u001b[39m\u001b[38;5;124m\"\u001b[39m\u001b[38;5;124mMucha concatenación: \u001b[39m\u001b[38;5;132;01m{\u001b[39;00mvar4\u001b[38;5;250m \u001b[39m\u001b[38;5;241m*\u001b[39m\u001b[38;5;250m \u001b[39m((\u001b[38;5;241m-\u001b[39m\u001b[38;5;241m1\u001b[39m)\u001b[38;5;250m \u001b[39m\u001b[38;5;241m*\u001b[39m\u001b[38;5;250m \u001b[39mvar3)\u001b[38;5;132;01m}\u001b[39;00m\u001b[38;5;124m\"\u001b[39m)\n\u001b[0;32m---> 15\u001b[0m \u001b[38;5;28mprint\u001b[39m(\u001b[38;5;124mf\u001b[39m\u001b[38;5;124m\"\u001b[39m\u001b[38;5;124mPosiblemente de error: \u001b[39m\u001b[38;5;132;01m{\u001b[39;00m\u001b[43mvar4\u001b[49m\u001b[38;5;250;43m \u001b[39;49m\u001b[38;5;241;43m/\u001b[39;49m\u001b[38;5;250;43m \u001b[39;49m\u001b[43mvar2\u001b[49m\u001b[38;5;132;01m}\u001b[39;00m\u001b[38;5;124m\"\u001b[39m)\n",
      "\u001b[0;31mTypeError\u001b[0m: unsupported operand type(s) for /: 'str' and 'float'"
     ]
    }
   ],
   "source": [
    "var1 = 1\n",
    "var2 = 3.14\n",
    "var3 = -8\n",
    "var4 = \"CEIoT\"\n",
    "\n",
    "print(f\"Suma de variables: {var1 + var2}\")\n",
    "print(f\"Resta de variables: {var1 - var2}\")\n",
    "print(f\"División: {var3 / 3}\") \n",
    "print(f\"División entera con aproximación: {var3 // 3}\") \n",
    "print(f\"Módulo entre dos números: {var3 % 3}\")\n",
    "print(f\"Función exponencial: {var2 ** 2}\")\n",
    "print(f\"Multiplicación: {var3 * var2}\")\n",
    "print(f\"Concatenación de variables: {var4 + var4}\")\n",
    "print(f\"Mucha concatenación: {var4 * ((-1) * var3)}\")\n",
    "print(f\"Posiblemente de error: {var4 / var2}\")\n"
   ]
  },
  {
   "cell_type": "markdown",
   "metadata": {},
   "source": [
    "**Ejercicio 4**: Cree la variable `pi_string = \"3.1415926\"`\n",
    "1.  Conviertala en `float` (use la función `float()`) y guarda el resultado en la variable `pi_float`.\n",
    "2.  Imprima la variable `pi_float` con solo 3 decimales"
   ]
  },
  {
   "cell_type": "code",
   "execution_count": 20,
   "metadata": {},
   "outputs": [
    {
     "name": "stdout",
     "output_type": "stream",
     "text": [
      "3.142\n"
     ]
    }
   ],
   "source": [
    "pi_string = \"3.1415926\"\n",
    "pi_float = float(pi_string)\n",
    "print(f\"{pi_float:.3f}\")"
   ]
  },
  {
   "cell_type": "markdown",
   "metadata": {},
   "source": [
    "**Ejercicio 5**: Crea una variable con el string: `\"Me gusta la comida mexicana\"`.\n",
    "1. Crea una variable que se llame `mexican_food` que sea booleana.\n",
    "2. Mediante control de flujo, imprima condicionalmente la variable string si la variable del apartado 1 es verdadera."
   ]
  },
  {
   "cell_type": "code",
   "execution_count": 21,
   "metadata": {},
   "outputs": [
    {
     "name": "stdout",
     "output_type": "stream",
     "text": [
      "Me gusta la comida mexicana\n"
     ]
    }
   ],
   "source": [
    "mexican_food_str = \"Me gusta la comida mexicana\"\n",
    "mexican_food = True\n",
    "\n",
    "if mexican_food:\n",
    "    print(mexican_food_str)"
   ]
  },
  {
   "cell_type": "markdown",
   "metadata": {},
   "source": [
    "**Ejercicio 6**: Imprima la fecha y hora actual (utilice la librería [datetime](https://www.w3schools.com/python/python_datetime.asp))"
   ]
  },
  {
   "cell_type": "code",
   "execution_count": 23,
   "metadata": {},
   "outputs": [
    {
     "name": "stdout",
     "output_type": "stream",
     "text": [
      "Hoy es: 2024-06-21 14:16:26.015812\n"
     ]
    }
   ],
   "source": [
    "from datetime import datetime\n",
    "\n",
    "print(f\"Hoy es: {datetime.now()}\") "
   ]
  },
  {
   "cell_type": "markdown",
   "metadata": {},
   "source": [
    "**Ejercicio 7**: Imprima el calendario del mes de Marzo de 2023 (utilice la librería [calendar](https://www.geeksforgeeks.org/python-calendar-module/))"
   ]
  },
  {
   "cell_type": "code",
   "execution_count": 26,
   "metadata": {},
   "outputs": [
    {
     "name": "stdout",
     "output_type": "stream",
     "text": [
      "     March 2023\n",
      "Mo Tu We Th Fr Sa Su\n",
      "       1  2  3  4  5\n",
      " 6  7  8  9 10 11 12\n",
      "13 14 15 16 17 18 19\n",
      "20 21 22 23 24 25 26\n",
      "27 28 29 30 31\n",
      "\n"
     ]
    }
   ],
   "source": [
    "import calendar\n",
    "\n",
    "print(calendar.month(2023,3))"
   ]
  },
  {
   "cell_type": "markdown",
   "metadata": {},
   "source": [
    "**Ejercicio 8**: Usando Python resuelva este ejercicio:\n",
    "```\n",
    "Supongamos que tenemos U$D 100, el cual se puede invertir y retornar el 10% extra cada año. Es decir, después del primer año tendríamos 100 * 1.1 = 110, luego de dos años 100 * 1.1 * 1.1 = 121.\n",
    "\n",
    "Calcule la cantidad de plata que uno tendría luego de 7 años, y después de 23 años.\n",
    "```"
   ]
  },
  {
   "cell_type": "code",
   "execution_count": 30,
   "metadata": {},
   "outputs": [
    {
     "name": "stdout",
     "output_type": "stream",
     "text": [
      "Luego de 7 años tendrás 770.0000000000001\n",
      "Luego de 23 años tendrás 2530.0000000000005\n"
     ]
    }
   ],
   "source": [
    "def money_projection(money, years, interest):\n",
    "    return money * (1 + interest/100) * years\n",
    "\n",
    "print(f\"Luego de 7 años tendrás {money_projection(100,7,10)}\")\n",
    "print(f\"Luego de 23 años tendrás {money_projection(100,23,10)}\")"
   ]
  },
  {
   "cell_type": "markdown",
   "metadata": {},
   "source": [
    "**Ejercicio 9**: Introduzca el código del punto anterior en una función. Que los argumentos sean la inversión inicial, el interés y la cantidad de años. Obtenga diferentes salidas combinando estas variables."
   ]
  },
  {
   "cell_type": "code",
   "execution_count": 32,
   "metadata": {},
   "outputs": [
    {
     "name": "stdout",
     "output_type": "stream",
     "text": [
      "Luego de 7 años y con un 20% de interés tendrás USD840.0\n",
      "Luego de 23 años y con un 50% tendrás USD3450.0\n"
     ]
    }
   ],
   "source": [
    "def money_projection(money, years, interest):\n",
    "    return money * (1 + interest/100) * years\n",
    "\n",
    "print(f\"Luego de 7 años y con un 20% de interés tendrás USD{money_projection(100,7,20)}\")\n",
    "print(f\"Luego de 23 años y con un 50% tendrás USD{money_projection(100,23,50)}\")"
   ]
  },
  {
   "cell_type": "markdown",
   "metadata": {},
   "source": [
    "**Ejercicio 10**: Escriba una función que teste si un número está entre 100 y 2000."
   ]
  },
  {
   "cell_type": "code",
   "execution_count": 36,
   "metadata": {},
   "outputs": [
    {
     "name": "stdout",
     "output_type": "stream",
     "text": [
      "True\n",
      "False\n"
     ]
    }
   ],
   "source": [
    "def test_between(aNumber, oneNumber, anotherNumber):\n",
    "    return aNumber >= oneNumber and aNumber <= anotherNumber\n",
    "\n",
    "print(test_between(5, 1, 10))\n",
    "print(test_between(70, 100, 200))"
   ]
  },
  {
   "cell_type": "markdown",
   "metadata": {},
   "source": [
    "**Ejercicio 11**: Escriba una función que verifique si dado un número natural, si es capicúa (por ejemplo 12321 o 90809)."
   ]
  },
  {
   "cell_type": "code",
   "execution_count": 40,
   "metadata": {},
   "outputs": [
    {
     "name": "stdout",
     "output_type": "stream",
     "text": [
      "True\n",
      "False\n"
     ]
    }
   ],
   "source": [
    "def is_palindrome(number):\n",
    "    nstr = str(number)\n",
    "    return nstr[::-1] == nstr\n",
    "\n",
    "print(is_palindrome(12321))\n",
    "print(is_palindrome(2321))"
   ]
  },
  {
   "cell_type": "markdown",
   "metadata": {},
   "source": [
    "**Ejercicio 12**: \n",
    "1. Escriba una función que dado un string reemplaza todos los caracteres con `\"*\"` menos los últimos 5 caracteres.\n",
    "2. Modifique la función para que un argumento opcional se pueda cambiar cuantos caracteres se quieren dejar sin `\"*\"`."
   ]
  },
  {
   "cell_type": "code",
   "execution_count": 55,
   "metadata": {},
   "outputs": [
    {
     "name": "stdout",
     "output_type": "stream",
     "text": [
      "*********alala\n"
     ]
    }
   ],
   "source": [
    "def encrypt(aString, offsetPlain):\n",
    "    if len(aString) < offsetPlain:\n",
    "        raise BaseException(\"offset must be smaller than the string's length\")\n",
    "    \n",
    "    offset = len(aString) - offsetPlain\n",
    "    encrypt = aString[:offset]\n",
    "    plain = aString[offset:]\n",
    "    return '*' * len(encrypt) + plain\n",
    "\n",
    "print(encrypt(\"lalalalalalala\",5))"
   ]
  },
  {
   "cell_type": "markdown",
   "metadata": {},
   "source": [
    "**Ejercicio 13**: \n",
    "1. Escriba una función que dado el radio (número flotante) como entrada devuelva el diámetro, circunferencia y área de un círculo.\n",
    "2. Agregue un argumento opcional dimensión que por defecto es 2, si es 3 retorna el diámetro y el volumen de una esfera. Cualquier otro valor, retorne\n",
    "-1."
   ]
  },
  {
   "cell_type": "code",
   "execution_count": 60,
   "metadata": {},
   "outputs": [
    {
     "name": "stdout",
     "output_type": "stream",
     "text": [
      "{'d': 4, 'V': 33.49333333333333}\n"
     ]
    }
   ],
   "source": [
    "def geometrical_specs(r, dimension=2):\n",
    "    pi = 3.14\n",
    "    if dimension == 2:\n",
    "        return {\n",
    "            \"d\": r*2,\n",
    "            \"C\": 2*r*pi,\n",
    "            \"A\": pi*(r**2)\n",
    "        }\n",
    "    elif dimension == 3:\n",
    "        return {\n",
    "            \"d\": r*2,\n",
    "            \"V\": (4/3) * pi * (r**3)\n",
    "        }\n",
    "    else:\n",
    "        return -1\n",
    "\n",
    "\n",
    "print(geometrical_specs(2,3))\n",
    "        \n",
    "    \n",
    "    "
   ]
  },
  {
   "cell_type": "markdown",
   "metadata": {},
   "source": [
    "**Ejercicio 14**: Genere una lista formada por los números naturales desde el 1 hasta el 9 incluidos llamada `mi_lista` usado list comprehension.\n",
    "1. Imprima el primer, el quinto y último elemento, y además la cantidad de elementos que tiene la lista.\n",
    "2. Cree una lista nueva que incluya solamente desde el segundo al sexto elemento.\n",
    "3. Quite el último elemento de la lista `mi_lista` y guárdelo en una variable llamada `ultimo_elemento`.\n",
    "4. Quite el tercer elemento de la lista `mi_lista`.\n",
    "5. Agregue el número 4 al final de `mi_lista`.\n",
    "6. Agregue el string `\"Soy un string\"` en la tercera posición de `mi_lista`."
   ]
  },
  {
   "cell_type": "code",
   "execution_count": 76,
   "metadata": {},
   "outputs": [
    {
     "name": "stdout",
     "output_type": "stream",
     "text": [
      "first[1] fifth[5] len[9]\n"
     ]
    }
   ],
   "source": [
    "mi_lista = [x for x in range(1,10)]\n",
    "\n",
    "print(f\"first[{mi_lista[0]}] fifth[{mi_lista[4]}] len[{len(mi_lista)}]\")"
   ]
  },
  {
   "cell_type": "markdown",
   "metadata": {},
   "source": [
    "**Ejercicio 15**: Escriba una función que devuelva una tupla de todos los números impares dado un valor de inicio y final. Siendo el de inicio opcional, con valor por defecto igual a 1."
   ]
  },
  {
   "cell_type": "code",
   "execution_count": 78,
   "metadata": {},
   "outputs": [
    {
     "name": "stdout",
     "output_type": "stream",
     "text": [
      "[1, 3, 5, 7, 9]\n"
     ]
    }
   ],
   "source": [
    "def odds(to, f=1):\n",
    "    return [x for x in range(f, to+1) if x%2 == 1]\n",
    "\n",
    "print(odds(10))"
   ]
  },
  {
   "cell_type": "markdown",
   "metadata": {},
   "source": [
    "**Ejercicio 16**: Escriba una función que realice la suma de dos vectores. Para \"armar\" a los vectores vamos a usar listas de igual tamaño. La función debe devolver el vector suma en forma de lista."
   ]
  },
  {
   "cell_type": "code",
   "execution_count": 91,
   "metadata": {},
   "outputs": [
    {
     "name": "stdout",
     "output_type": "stream",
     "text": [
      "[4, 4, 4]\n"
     ]
    }
   ],
   "source": [
    "def sum_vectors(v1, v2):\n",
    "    s = []\n",
    "    for i, x in enumerate(v1):\n",
    "        s.append(x + v2[i])\n",
    "    return s\n",
    "    \n",
    "print(sum_vectors([1,2,3], [3,2,1]))"
   ]
  },
  {
   "cell_type": "markdown",
   "metadata": {},
   "source": [
    "**Ejercicio 17**: Cree un diccionario llamado datos_personales con los siguientes datos:\n",
    "```\n",
    "nombre: Pedro\n",
    "apellido: Perez\n",
    "edad: 43\n",
    "```\n",
    "\n",
    "1. Imprima el apellido.\n",
    "2. Cambie el valor de la edad a 24.\n",
    "3. Agregue dos elementos:\n",
    "```\n",
    "    tipo de sangre: A\n",
    "    dirección: Av. Colón 1132.\n",
    "```\n",
    "4. Elimine el elemento tipo de sangre.\n",
    "5. Imprima todo el diccionario."
   ]
  },
  {
   "cell_type": "code",
   "execution_count": 94,
   "metadata": {},
   "outputs": [
    {
     "name": "stdout",
     "output_type": "stream",
     "text": [
      "Perez\n",
      "24\n",
      "{'nombre': 'Pedro', 'apellido': 'Perez', 'edad': 24, 'dirección': 'Av. Colón 1132.'}\n"
     ]
    }
   ],
   "source": [
    "datos_personales = {\n",
    "    \"nombre\": \"Pedro\",\n",
    "    \"apellido\": \"Perez\",\n",
    "    \"edad\": 43\n",
    "}\n",
    "\n",
    "print(datos_personales[\"apellido\"])\n",
    "datos_personales[\"edad\"] = 24\n",
    "print(datos_personales[\"edad\"])\n",
    "datos_personales[\"tipo de sangre\"] = \"A\"\n",
    "datos_personales[\"dirección\"] = \"Av. Colón 1132.\"\n",
    "del datos_personales[\"tipo de sangre\"]\n",
    "print(datos_personales)\n"
   ]
  },
  {
   "cell_type": "markdown",
   "metadata": {},
   "source": [
    "**Ejercicio 18**: Cree un programa que usando while sume los números del 1 a 1000. Al final imprima la suma."
   ]
  },
  {
   "cell_type": "code",
   "execution_count": 97,
   "metadata": {},
   "outputs": [
    {
     "name": "stdout",
     "output_type": "stream",
     "text": [
      "21430172143725346418968500981200036211228096234110672148875007767407021022498722449863967576313917162551893458351062936503742905713846280871969155149397149607869135549648461970842149210124742283755908364306092949967163882534797535118331087892154125829142392955373084335320859663305248773674411336137750\n"
     ]
    }
   ],
   "source": [
    "n = 0\n",
    "i = 0\n",
    "while(i <= 1000):\n",
    "    n += n+i\n",
    "    i += 1\n",
    "\n",
    "print(n)"
   ]
  },
  {
   "cell_type": "markdown",
   "metadata": {},
   "source": [
    "**Ejercicio 19**: Usando for:\n",
    "1. Imprima todos los elementos de la lista `mi_lista` del ejercicio 14.\n",
    "2. Genere una nueva lista que sea los valores al cuadrado de todos los elementos de `mi_lista` que sean numéricos."
   ]
  },
  {
   "cell_type": "code",
   "execution_count": 100,
   "metadata": {},
   "outputs": [
    {
     "name": "stdout",
     "output_type": "stream",
     "text": [
      "[1, 2, 3, 4, 5, 6, 7, 8, 9]\n",
      "[1, 4, 9, 16, 25, 36, 49, 64, 81]\n"
     ]
    }
   ],
   "source": [
    "print(mi_lista)\n",
    "\n",
    "lista_al_cuadrado = [x**2 for x in mi_lista]\n",
    "print(lista_al_cuadrado)"
   ]
  },
  {
   "cell_type": "markdown",
   "metadata": {},
   "source": [
    "**Ejercicio 20**: Calcule los primeros 30 números primos"
   ]
  },
  {
   "cell_type": "code",
   "execution_count": 104,
   "metadata": {},
   "outputs": [
    {
     "name": "stdout",
     "output_type": "stream",
     "text": [
      "1: 2\n",
      "2: 3\n",
      "3: 5\n",
      "4: 7\n",
      "5: 11\n",
      "6: 13\n",
      "7: 17\n",
      "8: 19\n",
      "9: 23\n",
      "10: 29\n",
      "11: 31\n",
      "12: 37\n",
      "13: 41\n",
      "14: 43\n",
      "15: 47\n",
      "16: 53\n",
      "17: 59\n",
      "18: 61\n",
      "19: 67\n",
      "20: 71\n",
      "21: 73\n",
      "22: 79\n",
      "23: 83\n",
      "24: 89\n",
      "25: 97\n",
      "26: 101\n",
      "27: 103\n",
      "28: 107\n",
      "29: 109\n",
      "30: 113\n"
     ]
    }
   ],
   "source": [
    "def es_primo(numero):\n",
    "    if numero <= 1:\n",
    "        return False\n",
    "    for i in range(2, int(numero**0.5) + 1):\n",
    "        if numero % i == 0:\n",
    "            return False\n",
    "    return True\n",
    "\n",
    "cPrimos = 1\n",
    "i = 0 \n",
    "while cPrimos <= 30:\n",
    "    if es_primo(i):\n",
    "        print(f\"{cPrimos}: {i}\")\n",
    "        cPrimos += 1\n",
    "    i += 1\n"
   ]
  },
  {
   "cell_type": "markdown",
   "metadata": {},
   "source": [
    "**Ejercicio 21**: Escriba una función que construya el patrón que tenga como argumento de entrada el maximo numero de asterisco de la punta (valor minimo igual a 2):\n",
    "\n",
    "```\n",
    "*\n",
    "**\n",
    "***\n",
    "****\n",
    "*****\n",
    "****\n",
    "***\n",
    "**\n",
    "*\n",
    "```"
   ]
  },
  {
   "cell_type": "code",
   "execution_count": 113,
   "metadata": {},
   "outputs": [
    {
     "name": "stdout",
     "output_type": "stream",
     "text": [
      "*\n",
      "**\n",
      "***\n",
      "****\n",
      "*****\n",
      "****\n",
      "***\n",
      "**\n",
      "*\n"
     ]
    }
   ],
   "source": [
    "def asteriks(max, f=1):\n",
    "    if max < 2:\n",
    "        raise BaseException(\"max should be at least 2\")\n",
    "    \n",
    "    print('*' * f)\n",
    "    if f < max:\n",
    "        asteriks(max, f + 1)\n",
    "        print('*' * f)\n",
    "\n",
    "asteriks(5)"
   ]
  },
  {
   "cell_type": "markdown",
   "metadata": {},
   "source": [
    "**Ejercicio 22**: El matemático aleman Gottfried Leibniz desarrolló un método para aproximar el valor de π:\n",
    "\n",
    "$$ \\pi = 4 \\sum_{n=0}^{\\infty} \\frac{(-1)^n}{2n + 1} $$\n",
    "\n",
    "Escriba una función que mediante un argumento especifique el número de iteraciones usadas para aproximarse usando esta serie e imprima en pantalla el valor resultante."
   ]
  },
  {
   "cell_type": "code",
   "execution_count": 123,
   "metadata": {},
   "outputs": [
    {
     "name": "stdout",
     "output_type": "stream",
     "text": [
      "3.141592663589326\n"
     ]
    }
   ],
   "source": [
    "def leibniz(it):\n",
    "    s = 0\n",
    "    for i in range(it):\n",
    "        s += 4 * (((-1)**i) / ((2*i) + 1))\n",
    "    return s\n",
    "\n",
    "print(leibniz(99999999))"
   ]
  },
  {
   "cell_type": "markdown",
   "metadata": {},
   "source": [
    "**Ejercicio 25**: Escriba un script para crear una función **lambda** que sume 15 a un número dado pasado como argumento, también cree una función **lambda** que multiplique el argumento x con el argumento y e imprima el resultado."
   ]
  },
  {
   "cell_type": "code",
   "execution_count": 127,
   "metadata": {},
   "outputs": [
    {
     "name": "stdout",
     "output_type": "stream",
     "text": [
      "16\n",
      "150\n"
     ]
    }
   ],
   "source": [
    "f = lambda x: x + 15\n",
    "print(f(1))\n",
    "g = lambda x,y : x*y\n",
    "print(g(15, 10))"
   ]
  },
  {
   "cell_type": "markdown",
   "metadata": {},
   "source": [
    "**Ejercicio 26**: Un sistema de administración de perros de una veterinaria permite cargar datos del perro:\n",
    "```\n",
    "Nombre del perro\n",
    "Nombre completo del dueño\n",
    "Peso\n",
    "Raza\n",
    "```\n",
    "\n",
    "Defina una clase llamada `Dog` que se inicie con todos los atributos vacíos y que con diferentes métodos se puedan completar la información y mostrar la información."
   ]
  },
  {
   "cell_type": "code",
   "execution_count": 140,
   "metadata": {},
   "outputs": [
    {
     "name": "stdout",
     "output_type": "stream",
     "text": [
      "Name: , Owner: , Weight: 0, Breed: \n",
      "Name: Pipi, Owner: Aye, Weight: 3, Breed: Praga\n"
     ]
    }
   ],
   "source": [
    "class Dog:\n",
    "    def __init__(self, name = \"\", owner = \"\", weight = 0, breed = \"\"):\n",
    "        self.__name = name\n",
    "        self.__owner = owner\n",
    "        self.__weight = weight\n",
    "        self.__breed = breed\n",
    "\n",
    "    def __str__(self):\n",
    "        return f\"Name: {self.__name}, Owner: {self.__owner}, Weight: {self.__weight}, Breed: {self.__breed}\"\n",
    "\n",
    "    @property\n",
    "    def name(self):\n",
    "        return self.__name\n",
    "    \n",
    "    @name.setter\n",
    "    def name(self, new):\n",
    "        self.__name = new\n",
    "\n",
    "    @property \n",
    "    def owner(self):\n",
    "        return self.__owner\n",
    "\n",
    "    @owner.setter\n",
    "    def owner(self, new):\n",
    "        self.__owner = new\n",
    "\n",
    "    @property\n",
    "    def weight(self):\n",
    "        return self.weight\n",
    "\n",
    "\n",
    "    @weight.setter\n",
    "    def weight(self, new):\n",
    "        self.__weight = new\n",
    "\n",
    "\n",
    "    @property \n",
    "    def breed(self):\n",
    "        return self.__breed\n",
    "\n",
    "    @breed.setter\n",
    "    def breed(self, new):\n",
    "        self.__breed = new\n",
    "\n",
    "\n",
    "dog = Dog()\n",
    "print(dog)\n",
    "dog.name = \"Pipi\"\n",
    "dog.owner = \"Aye\"\n",
    "dog.weight = 3\n",
    "dog.breed = \"Praga\" \n",
    "print(dog)\n",
    "\n"
   ]
  },
  {
   "cell_type": "code",
   "execution_count": null,
   "metadata": {},
   "outputs": [],
   "source": []
  }
 ],
 "metadata": {
  "kernelspec": {
   "display_name": "Python 3 (ipykernel)",
   "language": "python",
   "name": "python3"
  },
  "language_info": {
   "codemirror_mode": {
    "name": "ipython",
    "version": 3
   },
   "file_extension": ".py",
   "mimetype": "text/x-python",
   "name": "python",
   "nbconvert_exporter": "python",
   "pygments_lexer": "ipython3",
   "version": "3.12.4"
  }
 },
 "nbformat": 4,
 "nbformat_minor": 4
}
